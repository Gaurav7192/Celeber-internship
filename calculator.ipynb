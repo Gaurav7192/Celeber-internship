{
 "cells": [
  {
   "cell_type": "code",
   "execution_count": 5,
   "id": "e2a7efda-9488-4d76-938f-f406d1cd7dfc",
   "metadata": {},
   "outputs": [
    {
     "name": "stdin",
     "output_type": "stream",
     "text": [
      "enter 1st number\n",
      " 5\n",
      "enter 2nd number\n",
      "  2\n",
      "enter 1 for add\n",
      " enter 2 for subtract \n",
      " enter 3 for multiplication\n",
      " enter 4 for division 4\n"
     ]
    },
    {
     "name": "stdout",
     "output_type": "stream",
     "text": [
      "2.5\n"
     ]
    }
   ],
   "source": [
    "def add(x,y):\n",
    "    return x+y\n",
    "def sub(x,y):\n",
    "    return(x-y)\n",
    "def multi(x,y):\n",
    "    return x*y\n",
    "def div(x,y):\n",
    "    if(y==0):\n",
    "        print(\"zero division error\")\n",
    "    else:\n",
    "        \n",
    "        return x/y\n",
    "n1=float(input(\"enter 1st number\\n\"))\n",
    "n2=float(input(\"enter 2nd number\\n \"))\n",
    "op=int(input(\"enter 1 for add\\n enter 2 for subtract \\n enter 3 for multiplication\\n enter 4 for division\"))\n",
    "if op==1:\n",
    "    print(add(n1,n2))\n",
    "elif op==2:\n",
    "    print(sub(n1,n2))\n",
    "elif op==3:\n",
    "    print(multi(n1,n2))\n",
    "elif op==4:\n",
    "    print(div(n1,n2))\n",
    "else:\n",
    "    print(\"invalide input\")\n",
    "    "
   ]
  },
  {
   "cell_type": "code",
   "execution_count": null,
   "id": "14c1789d-a58c-4b42-91c0-056568ab0e2a",
   "metadata": {},
   "outputs": [],
   "source": []
  }
 ],
 "metadata": {
  "kernelspec": {
   "display_name": "Python 3 (ipykernel)",
   "language": "python",
   "name": "python3"
  },
  "language_info": {
   "codemirror_mode": {
    "name": "ipython",
    "version": 3
   },
   "file_extension": ".py",
   "mimetype": "text/x-python",
   "name": "python",
   "nbconvert_exporter": "python",
   "pygments_lexer": "ipython3",
   "version": "3.11.8"
  },
  "widgets": {
   "application/vnd.jupyter.widget-state+json": {
    "state": {},
    "version_major": 2,
    "version_minor": 0
   }
  }
 },
 "nbformat": 4,
 "nbformat_minor": 5
}
